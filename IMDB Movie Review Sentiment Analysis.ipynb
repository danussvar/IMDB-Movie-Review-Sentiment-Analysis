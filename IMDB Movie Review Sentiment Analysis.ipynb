{
 "cells": [
  {
   "cell_type": "code",
   "execution_count": 1,
   "metadata": {},
   "outputs": [],
   "source": [
    "# Importing the text files and appending the reviews in lists\n",
    "\n",
    "reviews_train = []\n",
    "for line in open('movie_data/full_train.txt', 'r', encoding=\"utf8\"):    \n",
    "    reviews_train.append(line.strip())\n",
    "    \n",
    "reviews_test = []\n",
    "for line in open('movie_data/full_test.txt', 'r', encoding=\"utf8\"):    \n",
    "    reviews_test.append(line.strip())\n",
    "\n",
    "# Assigning the Labels for the train and test data\n",
    "target = [1 if i < 12500 else 0 for i in range(25000)]"
   ]
  },
  {
   "cell_type": "code",
   "execution_count": 2,
   "metadata": {},
   "outputs": [],
   "source": [
    "# Removing unnessary symbols and converting the reviews to lowercase\n",
    "\n",
    "import re\n",
    "\n",
    "REPLACE_NO_SPACE = re.compile(\"(\\.)|(\\;)|(\\:)|(\\!)|(\\?)|(\\,)|(\\\")|(\\()|(\\))|(\\[)|(\\])|(\\d+)\")\n",
    "REPLACE_WITH_SPACE = re.compile(\"(<br\\s*/><br\\s*/>)|(\\-)|(\\/)\")\n",
    "NO_SPACE = \"\"\n",
    "SPACE = \" \"\n",
    "\n",
    "def preprocess_reviews(reviews):\n",
    "    \n",
    "    reviews = [REPLACE_NO_SPACE.sub(NO_SPACE, line.lower()) for line in reviews]\n",
    "    reviews = [REPLACE_WITH_SPACE.sub(SPACE, line) for line in reviews]\n",
    "    \n",
    "    return reviews\n",
    "\n",
    "reviews_train_clean = preprocess_reviews(reviews_train)\n",
    "reviews_test_clean = preprocess_reviews(reviews_test)"
   ]
  },
  {
   "cell_type": "code",
   "execution_count": 3,
   "metadata": {},
   "outputs": [],
   "source": [
    "# Vectorizing the data and removing stop words\n",
    "\n",
    "from sklearn.feature_extraction.text import CountVectorizer\n",
    "\n",
    "stop_words = ['in', 'of', 'at', 'a', 'the']\n",
    "ngram_vectorizer = CountVectorizer(binary=True, ngram_range=(1, 3), stop_words=stop_words)\n",
    "ngram_vectorizer.fit(reviews_train_clean)\n",
    "X = ngram_vectorizer.transform(reviews_train_clean)\n",
    "X_test = ngram_vectorizer.transform(reviews_test_clean)"
   ]
  },
  {
   "cell_type": "code",
   "execution_count": 5,
   "metadata": {},
   "outputs": [
    {
     "name": "stdout",
     "output_type": "stream",
     "text": [
      "Accuracy for C=0.001: 0.8824\n",
      "Accuracy for C=0.005: 0.88752\n",
      "Accuracy for C=0.01: 0.888\n",
      "Accuracy for C=0.05: 0.8864\n",
      "Accuracy for C=0.1: 0.88656\n"
     ]
    }
   ],
   "source": [
    "# Finding the correct C parameter for the SVC\n",
    "\n",
    "from sklearn.model_selection import train_test_split\n",
    "from sklearn.metrics import accuracy_score\n",
    "from sklearn.svm import LinearSVC\n",
    "\n",
    "X_train, X_val, y_train, y_val = train_test_split(X, target, train_size = 0.75)\n",
    "for c in [0.001, 0.005, 0.01, 0.05, 0.1]:\n",
    "    svm = LinearSVC(C=c)\n",
    "    svm.fit(X_train, y_train)\n",
    "    print (\"Accuracy for C=%s: %s\" % (c, accuracy_score(y_val, svm.predict(X_val))))    "
   ]
  },
  {
   "cell_type": "code",
   "execution_count": 6,
   "metadata": {},
   "outputs": [
    {
     "name": "stdout",
     "output_type": "stream",
     "text": [
      "Final Accuracy: 0.90064\n"
     ]
    }
   ],
   "source": [
    "# Final Model\n",
    "\n",
    "final = LinearSVC(C=0.01)\n",
    "final.fit(X, target)\n",
    "print (\"Final Accuracy: %s\" % accuracy_score(target, final.predict(X_test)))"
   ]
  },
  {
   "cell_type": "code",
   "execution_count": 7,
   "metadata": {},
   "outputs": [
    {
     "name": "stdout",
     "output_type": "stream",
     "text": [
      "Top 10 Best Positive Words\n",
      "('excellent', 0.2293215003000768)\n",
      "('perfect', 0.18456042139913043)\n",
      "('great', 0.17897485734680837)\n",
      "('wonderful', 0.16014961375172793)\n",
      "('amazing', 0.1541167865466618)\n",
      "('superb', 0.14690756754242126)\n",
      "('enjoyable', 0.14346762985178346)\n",
      "('best', 0.13042554793274896)\n",
      "('today', 0.12939426866280332)\n",
      "('fun', 0.12682167448162868)\n",
      "\n",
      "\n",
      "\n",
      "Top 10 Best Negative Words\n",
      "('worst', -0.35899086740800534)\n",
      "('awful', -0.255057522591135)\n",
      "('boring', -0.24068185067131959)\n",
      "('waste', -0.23683697684851077)\n",
      "('bad', -0.22181964820606456)\n",
      "('poor', -0.20193935428363136)\n",
      "('terrible', -0.19984465028953458)\n",
      "('dull', -0.18413720898632774)\n",
      "('poorly', -0.1753406869434352)\n",
      "('disappointment', -0.1748853421303067)\n"
     ]
    }
   ],
   "source": [
    "# Top Ten Features\n",
    "\n",
    "feature_to_coef = {\n",
    "    word: coef for word, coef in zip(ngram_vectorizer.get_feature_names(), final.coef_[0])\n",
    "}\n",
    "print(\"Top 10 Best Positive Words\")\n",
    "for best_positive in sorted(feature_to_coef.items(), key=lambda x: x[1], reverse=True)[:10]:\n",
    "    print (best_positive)\n",
    "    \n",
    "print(\"\\n\\n\")\n",
    "print(\"Top 10 Best Negative Words\")\n",
    "for best_negative in sorted(feature_to_coef.items(), key=lambda x: x[1])[:10]:\n",
    "    print (best_negative)"
   ]
  }
 ],
 "metadata": {
  "kernelspec": {
   "display_name": "Python 3",
   "language": "python",
   "name": "python3"
  },
  "language_info": {
   "codemirror_mode": {
    "name": "ipython",
    "version": 3
   },
   "file_extension": ".py",
   "mimetype": "text/x-python",
   "name": "python",
   "nbconvert_exporter": "python",
   "pygments_lexer": "ipython3",
   "version": "3.7.4"
  }
 },
 "nbformat": 4,
 "nbformat_minor": 4
}
